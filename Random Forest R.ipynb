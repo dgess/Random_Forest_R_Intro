{
 "cells": [
  {
   "cell_type": "code",
   "execution_count": 225,
   "metadata": {},
   "outputs": [
    {
     "data": {
      "text/html": [
       "<table>\n",
       "<thead><tr><th scope=col>gender</th><th scope=col>race.ethnicity</th><th scope=col>parental.level.of.education</th><th scope=col>lunch</th><th scope=col>test.preparation.course</th><th scope=col>reading.score</th><th scope=col>writing.score</th><th scope=col>math.score</th></tr></thead>\n",
       "<tbody>\n",
       "\t<tr><td>female            </td><td>group B           </td><td>bachelor's degree </td><td>standard          </td><td>none              </td><td>72                </td><td>74                </td><td>72                </td></tr>\n",
       "\t<tr><td>female            </td><td>group C           </td><td>some college      </td><td>standard          </td><td>completed         </td><td>90                </td><td>88                </td><td>69                </td></tr>\n",
       "\t<tr><td>female            </td><td>group B           </td><td>master's degree   </td><td>standard          </td><td>none              </td><td>95                </td><td>93                </td><td>90                </td></tr>\n",
       "\t<tr><td>male              </td><td>group A           </td><td>associate's degree</td><td>free/reduced      </td><td>none              </td><td>57                </td><td>44                </td><td>47                </td></tr>\n",
       "\t<tr><td>male              </td><td>group C           </td><td>some college      </td><td>standard          </td><td>none              </td><td>78                </td><td>75                </td><td>76                </td></tr>\n",
       "\t<tr><td>female            </td><td>group B           </td><td>associate's degree</td><td>standard          </td><td>none              </td><td>83                </td><td>78                </td><td>71                </td></tr>\n",
       "</tbody>\n",
       "</table>\n"
      ],
      "text/latex": [
       "\\begin{tabular}{r|llllllll}\n",
       " gender & race.ethnicity & parental.level.of.education & lunch & test.preparation.course & reading.score & writing.score & math.score\\\\\n",
       "\\hline\n",
       "\t female             & group B            & bachelor's degree  & standard           & none               & 72                 & 74                 & 72                \\\\\n",
       "\t female             & group C            & some college       & standard           & completed          & 90                 & 88                 & 69                \\\\\n",
       "\t female             & group B            & master's degree    & standard           & none               & 95                 & 93                 & 90                \\\\\n",
       "\t male               & group A            & associate's degree & free/reduced       & none               & 57                 & 44                 & 47                \\\\\n",
       "\t male               & group C            & some college       & standard           & none               & 78                 & 75                 & 76                \\\\\n",
       "\t female             & group B            & associate's degree & standard           & none               & 83                 & 78                 & 71                \\\\\n",
       "\\end{tabular}\n"
      ],
      "text/markdown": [
       "\n",
       "gender | race.ethnicity | parental.level.of.education | lunch | test.preparation.course | reading.score | writing.score | math.score | \n",
       "|---|---|---|---|---|---|\n",
       "| female             | group B            | bachelor's degree  | standard           | none               | 72                 | 74                 | 72                 | \n",
       "| female             | group C            | some college       | standard           | completed          | 90                 | 88                 | 69                 | \n",
       "| female             | group B            | master's degree    | standard           | none               | 95                 | 93                 | 90                 | \n",
       "| male               | group A            | associate's degree | free/reduced       | none               | 57                 | 44                 | 47                 | \n",
       "| male               | group C            | some college       | standard           | none               | 78                 | 75                 | 76                 | \n",
       "| female             | group B            | associate's degree | standard           | none               | 83                 | 78                 | 71                 | \n",
       "\n",
       "\n"
      ],
      "text/plain": [
       "  gender race.ethnicity parental.level.of.education lunch       \n",
       "1 female group B        bachelor's degree           standard    \n",
       "2 female group C        some college                standard    \n",
       "3 female group B        master's degree             standard    \n",
       "4 male   group A        associate's degree          free/reduced\n",
       "5 male   group C        some college                standard    \n",
       "6 female group B        associate's degree          standard    \n",
       "  test.preparation.course reading.score writing.score math.score\n",
       "1 none                    72            74            72        \n",
       "2 completed               90            88            69        \n",
       "3 none                    95            93            90        \n",
       "4 none                    57            44            47        \n",
       "5 none                    78            75            76        \n",
       "6 none                    83            78            71        "
      ]
     },
     "metadata": {},
     "output_type": "display_data"
    }
   ],
   "source": [
    "# Data Visualization\n",
    "library(ggplot2)\n",
    "\n",
    "# Random Forest\n",
    "library(randomForest)\n",
    "require(caTools)\n",
    "\n",
    "# We change our working directory...\n",
    "setwd('C:\\\\Users\\\\...\\\\Downloads\\\\students-performance-in-exams')\n",
    "\n",
    "# We pass our data into an array...\n",
    "df <- read.csv('StudentsPerformance.csv')\n",
    "df <- df[c(1,2,3,4,5,7,8,6)]\n",
    "data <- df\n",
    "\n",
    "# Let's see what we have here...\n",
    "head(df)"
   ]
  },
  {
   "cell_type": "code",
   "execution_count": 226,
   "metadata": {},
   "outputs": [
    {
     "name": "stdout",
     "output_type": "stream",
     "text": [
      "[1] female male  \n",
      "Levels: female male\n",
      "[1] group B group C group A group D group E\n",
      "Levels: group A group B group C group D group E\n",
      "[1] bachelor's degree  some college       master's degree    associate's degree\n",
      "[5] high school        some high school  \n",
      "6 Levels: associate's degree bachelor's degree high school ... some high school\n",
      "[1] standard     free/reduced\n",
      "Levels: free/reduced standard\n",
      "[1] none      completed\n",
      "Levels: completed none\n"
     ]
    }
   ],
   "source": [
    "# It looks like our data does not have too mnay features...\n",
    "# Also, the features all look categorical, but, currently in string form...\n",
    "# We will use integers to clean our features for the algorthim.\n",
    "# We get the unique values in each column for integer-based categories.\n",
    "for (column in 1:5) {\n",
    "    print(unique(df[,column]))\n",
    "}"
   ]
  },
  {
   "cell_type": "code",
   "execution_count": 227,
   "metadata": {},
   "outputs": [],
   "source": [
    "# We clean the gender column...\n",
    "clean_gender <- function(x) {\n",
    "    if ( x == 'male') {\n",
    "        x = 0\n",
    "    }\n",
    "    \n",
    "    else {\n",
    "        x = 1\n",
    "    }\n",
    "        \n",
    "}\n",
    "df[,1] = sapply(df[,1], clean_gender)\n",
    "\n",
    "# We clean the race.ethnicity column...\n",
    "clean_ethnicity <- function(x) {\n",
    "    if ( x == 'group A') {\n",
    "        x = 0\n",
    "    } else if ( x == 'group B') {\n",
    "        x = 1\n",
    "    } else if ( x == 'group C') {\n",
    "        x = 2\n",
    "    } else if ( x == 'group D') {\n",
    "        x = 3\n",
    "    } else {\n",
    "        x = 4\n",
    "    }\n",
    "}\n",
    "\n",
    "df[,2] = sapply(df[,2], clean_ethnicity)\n",
    "\n",
    "# We clean the parent.level.of.education column...\n",
    "clean_education <- function(x) {\n",
    "    if ( x == \"bachelor's degree\") {\n",
    "        x = 0 \n",
    "    } else if ( x == \"some college\") {\n",
    "        x = 1\n",
    "    } else if ( x == \"master's degree\") {\n",
    "        x = 2\n",
    "    } else if ( x == \"associate's degree\") {\n",
    "        x = 3\n",
    "    } else if ( x == \"high school\") {\n",
    "        x = 4\n",
    "    } else {\n",
    "        x = 5\n",
    "    }\n",
    "}\n",
    "\n",
    "df[,3] = sapply(df[,3], clean_education)\n",
    "\n",
    "# We clean the lunch column...\n",
    "clean_lunch <- function(x) {\n",
    "    if ( x == 'standard') {\n",
    "        x = 0\n",
    "    } else {\n",
    "        x = 1\n",
    "    }\n",
    "}\n",
    "\n",
    "df[,4] = sapply(df[,4], clean_lunch)\n",
    "\n",
    "# We clean the test.preparation.course column...\n",
    "clean_prep <- function(x) {\n",
    "    if ( x == 'completed') {\n",
    "        x = 0\n",
    "    } else {\n",
    "        x = 1\n",
    "    }\n",
    "}\n",
    "\n",
    "df[,5] = sapply(df[,5], clean_prep)"
   ]
  },
  {
   "cell_type": "code",
   "execution_count": 228,
   "metadata": {},
   "outputs": [
    {
     "data": {
      "text/html": [
       "<table>\n",
       "<thead><tr><th scope=col>gender</th><th scope=col>race.ethnicity</th><th scope=col>parental.level.of.education</th><th scope=col>lunch</th><th scope=col>test.preparation.course</th><th scope=col>reading.score</th><th scope=col>writing.score</th><th scope=col>math.score</th></tr></thead>\n",
       "<tbody>\n",
       "\t<tr><td>1 </td><td>1 </td><td>0 </td><td>0 </td><td>1 </td><td>72</td><td>74</td><td>72</td></tr>\n",
       "\t<tr><td>1 </td><td>2 </td><td>1 </td><td>0 </td><td>0 </td><td>90</td><td>88</td><td>69</td></tr>\n",
       "\t<tr><td>1 </td><td>1 </td><td>2 </td><td>0 </td><td>1 </td><td>95</td><td>93</td><td>90</td></tr>\n",
       "\t<tr><td>0 </td><td>0 </td><td>3 </td><td>1 </td><td>1 </td><td>57</td><td>44</td><td>47</td></tr>\n",
       "\t<tr><td>0 </td><td>2 </td><td>1 </td><td>0 </td><td>1 </td><td>78</td><td>75</td><td>76</td></tr>\n",
       "\t<tr><td>1 </td><td>1 </td><td>3 </td><td>0 </td><td>1 </td><td>83</td><td>78</td><td>71</td></tr>\n",
       "</tbody>\n",
       "</table>\n"
      ],
      "text/latex": [
       "\\begin{tabular}{r|llllllll}\n",
       " gender & race.ethnicity & parental.level.of.education & lunch & test.preparation.course & reading.score & writing.score & math.score\\\\\n",
       "\\hline\n",
       "\t 1  & 1  & 0  & 0  & 1  & 72 & 74 & 72\\\\\n",
       "\t 1  & 2  & 1  & 0  & 0  & 90 & 88 & 69\\\\\n",
       "\t 1  & 1  & 2  & 0  & 1  & 95 & 93 & 90\\\\\n",
       "\t 0  & 0  & 3  & 1  & 1  & 57 & 44 & 47\\\\\n",
       "\t 0  & 2  & 1  & 0  & 1  & 78 & 75 & 76\\\\\n",
       "\t 1  & 1  & 3  & 0  & 1  & 83 & 78 & 71\\\\\n",
       "\\end{tabular}\n"
      ],
      "text/markdown": [
       "\n",
       "gender | race.ethnicity | parental.level.of.education | lunch | test.preparation.course | reading.score | writing.score | math.score | \n",
       "|---|---|---|---|---|---|\n",
       "| 1  | 1  | 0  | 0  | 1  | 72 | 74 | 72 | \n",
       "| 1  | 2  | 1  | 0  | 0  | 90 | 88 | 69 | \n",
       "| 1  | 1  | 2  | 0  | 1  | 95 | 93 | 90 | \n",
       "| 0  | 0  | 3  | 1  | 1  | 57 | 44 | 47 | \n",
       "| 0  | 2  | 1  | 0  | 1  | 78 | 75 | 76 | \n",
       "| 1  | 1  | 3  | 0  | 1  | 83 | 78 | 71 | \n",
       "\n",
       "\n"
      ],
      "text/plain": [
       "  gender race.ethnicity parental.level.of.education lunch\n",
       "1 1      1              0                           0    \n",
       "2 1      2              1                           0    \n",
       "3 1      1              2                           0    \n",
       "4 0      0              3                           1    \n",
       "5 0      2              1                           0    \n",
       "6 1      1              3                           0    \n",
       "  test.preparation.course reading.score writing.score math.score\n",
       "1 1                       72            74            72        \n",
       "2 0                       90            88            69        \n",
       "3 1                       95            93            90        \n",
       "4 1                       57            44            47        \n",
       "5 1                       78            75            76        \n",
       "6 1                       83            78            71        "
      ]
     },
     "metadata": {},
     "output_type": "display_data"
    }
   ],
   "source": [
    "# We spot-check that the integer-based categories have successfully updated...\n",
    "head(df)"
   ]
  },
  {
   "cell_type": "code",
   "execution_count": 229,
   "metadata": {},
   "outputs": [
    {
     "data": {
      "text/html": [
       "<table>\n",
       "<thead><tr><th></th><th scope=col>gender</th><th scope=col>race.ethnicity</th><th scope=col>parental.level.of.education</th><th scope=col>lunch</th><th scope=col>test.preparation.course</th><th scope=col>reading.score</th><th scope=col>writing.score</th><th scope=col>math.score</th></tr></thead>\n",
       "<tbody>\n",
       "\t<tr><th scope=row>gender</th><td> 1.000000000</td><td> 0.001501924</td><td>-0.02838346 </td><td> 0.02137167 </td><td> 0.006027952</td><td> 0.2443126  </td><td> 0.3012249  </td><td>-0.1679822  </td></tr>\n",
       "\t<tr><th scope=row>race.ethnicity</th><td> 0.001501924</td><td> 1.000000000</td><td>-0.08048602 </td><td>-0.04656259 </td><td>-0.017508038</td><td> 0.1452526  </td><td> 0.1656905  </td><td> 0.2164154  </td></tr>\n",
       "\t<tr><th scope=row>parental.level.of.education</th><td>-0.028383460</td><td>-0.080486016</td><td> 1.00000000 </td><td>-0.01437793 </td><td>-0.011557512</td><td>-0.1434293  </td><td>-0.1923381  </td><td>-0.1392356  </td></tr>\n",
       "\t<tr><th scope=row>lunch</th><td> 0.021371670</td><td>-0.046562590</td><td>-0.01437793 </td><td> 1.00000000 </td><td>-0.017044085</td><td>-0.2295603  </td><td>-0.2457687  </td><td>-0.3508766  </td></tr>\n",
       "\t<tr><th scope=row>test.preparation.course</th><td> 0.006027952</td><td>-0.017508038</td><td>-0.01155751 </td><td>-0.01704409 </td><td> 1.000000000</td><td>-0.2417804  </td><td>-0.3129463  </td><td>-0.1777025  </td></tr>\n",
       "\t<tr><th scope=row>reading.score</th><td> 0.244312608</td><td> 0.145252622</td><td>-0.14342932 </td><td>-0.22956032 </td><td>-0.241780434</td><td> 1.0000000  </td><td> 0.9545981  </td><td> 0.8175797  </td></tr>\n",
       "\t<tr><th scope=row>writing.score</th><td> 0.301224936</td><td> 0.165690511</td><td>-0.19233808 </td><td>-0.24576868 </td><td>-0.312946284</td><td> 0.9545981  </td><td> 1.0000000  </td><td> 0.8026420  </td></tr>\n",
       "\t<tr><th scope=row>math.score</th><td>-0.167982238</td><td> 0.216415448</td><td>-0.13923560 </td><td>-0.35087665 </td><td>-0.177702469</td><td> 0.8175797  </td><td> 0.8026420  </td><td> 1.0000000  </td></tr>\n",
       "</tbody>\n",
       "</table>\n"
      ],
      "text/latex": [
       "\\begin{tabular}{r|llllllll}\n",
       "  & gender & race.ethnicity & parental.level.of.education & lunch & test.preparation.course & reading.score & writing.score & math.score\\\\\n",
       "\\hline\n",
       "\tgender &  1.000000000 &  0.001501924 & -0.02838346  &  0.02137167  &  0.006027952 &  0.2443126   &  0.3012249   & -0.1679822  \\\\\n",
       "\trace.ethnicity &  0.001501924 &  1.000000000 & -0.08048602  & -0.04656259  & -0.017508038 &  0.1452526   &  0.1656905   &  0.2164154  \\\\\n",
       "\tparental.level.of.education & -0.028383460 & -0.080486016 &  1.00000000  & -0.01437793  & -0.011557512 & -0.1434293   & -0.1923381   & -0.1392356  \\\\\n",
       "\tlunch &  0.021371670 & -0.046562590 & -0.01437793  &  1.00000000  & -0.017044085 & -0.2295603   & -0.2457687   & -0.3508766  \\\\\n",
       "\ttest.preparation.course &  0.006027952 & -0.017508038 & -0.01155751  & -0.01704409  &  1.000000000 & -0.2417804   & -0.3129463   & -0.1777025  \\\\\n",
       "\treading.score &  0.244312608 &  0.145252622 & -0.14342932  & -0.22956032  & -0.241780434 &  1.0000000   &  0.9545981   &  0.8175797  \\\\\n",
       "\twriting.score &  0.301224936 &  0.165690511 & -0.19233808  & -0.24576868  & -0.312946284 &  0.9545981   &  1.0000000   &  0.8026420  \\\\\n",
       "\tmath.score & -0.167982238 &  0.216415448 & -0.13923560  & -0.35087665  & -0.177702469 &  0.8175797   &  0.8026420   &  1.0000000  \\\\\n",
       "\\end{tabular}\n"
      ],
      "text/markdown": [
       "\n",
       "| <!--/--> | gender | race.ethnicity | parental.level.of.education | lunch | test.preparation.course | reading.score | writing.score | math.score | \n",
       "|---|---|---|---|---|---|---|---|\n",
       "| gender |  1.000000000 |  0.001501924 | -0.02838346  |  0.02137167  |  0.006027952 |  0.2443126   |  0.3012249   | -0.1679822   | \n",
       "| race.ethnicity |  0.001501924 |  1.000000000 | -0.08048602  | -0.04656259  | -0.017508038 |  0.1452526   |  0.1656905   |  0.2164154   | \n",
       "| parental.level.of.education | -0.028383460 | -0.080486016 |  1.00000000  | -0.01437793  | -0.011557512 | -0.1434293   | -0.1923381   | -0.1392356   | \n",
       "| lunch |  0.021371670 | -0.046562590 | -0.01437793  |  1.00000000  | -0.017044085 | -0.2295603   | -0.2457687   | -0.3508766   | \n",
       "| test.preparation.course |  0.006027952 | -0.017508038 | -0.01155751  | -0.01704409  |  1.000000000 | -0.2417804   | -0.3129463   | -0.1777025   | \n",
       "| reading.score |  0.244312608 |  0.145252622 | -0.14342932  | -0.22956032  | -0.241780434 |  1.0000000   |  0.9545981   |  0.8175797   | \n",
       "| writing.score |  0.301224936 |  0.165690511 | -0.19233808  | -0.24576868  | -0.312946284 |  0.9545981   |  1.0000000   |  0.8026420   | \n",
       "| math.score | -0.167982238 |  0.216415448 | -0.13923560  | -0.35087665  | -0.177702469 |  0.8175797   |  0.8026420   |  1.0000000   | \n",
       "\n",
       "\n"
      ],
      "text/plain": [
       "                            gender       race.ethnicity\n",
       "gender                       1.000000000  0.001501924  \n",
       "race.ethnicity               0.001501924  1.000000000  \n",
       "parental.level.of.education -0.028383460 -0.080486016  \n",
       "lunch                        0.021371670 -0.046562590  \n",
       "test.preparation.course      0.006027952 -0.017508038  \n",
       "reading.score                0.244312608  0.145252622  \n",
       "writing.score                0.301224936  0.165690511  \n",
       "math.score                  -0.167982238  0.216415448  \n",
       "                            parental.level.of.education lunch      \n",
       "gender                      -0.02838346                  0.02137167\n",
       "race.ethnicity              -0.08048602                 -0.04656259\n",
       "parental.level.of.education  1.00000000                 -0.01437793\n",
       "lunch                       -0.01437793                  1.00000000\n",
       "test.preparation.course     -0.01155751                 -0.01704409\n",
       "reading.score               -0.14342932                 -0.22956032\n",
       "writing.score               -0.19233808                 -0.24576868\n",
       "math.score                  -0.13923560                 -0.35087665\n",
       "                            test.preparation.course reading.score writing.score\n",
       "gender                       0.006027952             0.2443126     0.3012249   \n",
       "race.ethnicity              -0.017508038             0.1452526     0.1656905   \n",
       "parental.level.of.education -0.011557512            -0.1434293    -0.1923381   \n",
       "lunch                       -0.017044085            -0.2295603    -0.2457687   \n",
       "test.preparation.course      1.000000000            -0.2417804    -0.3129463   \n",
       "reading.score               -0.241780434             1.0000000     0.9545981   \n",
       "writing.score               -0.312946284             0.9545981     1.0000000   \n",
       "math.score                  -0.177702469             0.8175797     0.8026420   \n",
       "                            math.score\n",
       "gender                      -0.1679822\n",
       "race.ethnicity               0.2164154\n",
       "parental.level.of.education -0.1392356\n",
       "lunch                       -0.3508766\n",
       "test.preparation.course     -0.1777025\n",
       "reading.score                0.8175797\n",
       "writing.score                0.8026420\n",
       "math.score                   1.0000000"
      ]
     },
     "metadata": {},
     "output_type": "display_data"
    }
   ],
   "source": [
    "# We use a Pearson Corrlelation tets to determine if there are any correlations amongst variables...\n",
    "cor(df, method = 'pearson')"
   ]
  },
  {
   "cell_type": "code",
   "execution_count": 230,
   "metadata": {},
   "outputs": [
    {
     "data": {
      "text/plain": [
       " reading.score    writing.score      math.score    \n",
       " Min.   : 17.00   Min.   : 10.00   Min.   :  0.00  \n",
       " 1st Qu.: 59.00   1st Qu.: 57.75   1st Qu.: 57.00  \n",
       " Median : 70.00   Median : 69.00   Median : 66.00  \n",
       " Mean   : 69.17   Mean   : 68.05   Mean   : 66.09  \n",
       " 3rd Qu.: 79.00   3rd Qu.: 79.00   3rd Qu.: 77.00  \n",
       " Max.   :100.00   Max.   :100.00   Max.   :100.00  "
      ]
     },
     "metadata": {},
     "output_type": "display_data"
    }
   ],
   "source": [
    "# Well... all features seem to have a low correlation with the desired predicted variables...\n",
    "# The only things worth mentioning are:\n",
    "# The Reading and Writing scores show a very high positive corrleation.\n",
    "# The Math score has an appreciable positive correlation to the Writing score and the Reading score.\n",
    "# We view our scores...\n",
    "summary(df[6:8])"
   ]
  },
  {
   "cell_type": "code",
   "execution_count": 324,
   "metadata": {},
   "outputs": [
    {
     "data": {
      "text/plain": [
       "\n",
       "Call:\n",
       " randomForest(x = x_train, y = y_train, importance = TRUE) \n",
       "               Type of random forest: regression\n",
       "                     Number of trees: 500\n",
       "No. of variables tried at each split: 2\n",
       "\n",
       "          Mean of squared residuals: 4.381626\n",
       "                    % Var explained: 97.94"
      ]
     },
     "metadata": {},
     "output_type": "display_data"
    }
   ],
   "source": [
    "# It looks like a high C is the average score for each of the three tests...\n",
    "# A more in-depth analysis of data must occur, specifically, data visualization.\n",
    "# I assume our data is clustered due to the categorical nature of the features.\n",
    "# Meaning, plotting the data would provide rich insight for clustering.\n",
    "# We move to a Machine Learning model for now.\n",
    "# We split our data for training and testing...\n",
    "sample <- sample.split(df, SplitRatio = .75)\n",
    "train <- subset(df, sample == TRUE)\n",
    "test  <- subset(df, sample == FALSE)\n",
    "\n",
    "# We split our training data into the X and y vectors...\n",
    "x_train = train[c(1,2,3,4,5,6,7)]\n",
    "y_train = train[,6]\n",
    "\n",
    "# We split our testing data into the X and y vectors...\n",
    "x_test = test[c(1,2,3,4,5,6,7)]\n",
    "y_test = test[,6]\n",
    "\n",
    "# We seek to predict the Math Score of the individuals.\n",
    "# We will include the Reading and Writing scores within the model as well...\n",
    "# We create the model...\n",
    "Predict_Math_Score <- randomForest(\n",
    "    x = x_train,\n",
    "    y = y_train,\n",
    "    importance = TRUE,\n",
    ")\n",
    "Predict_Math_Score"
   ]
  },
  {
   "cell_type": "code",
   "execution_count": 325,
   "metadata": {},
   "outputs": [
    {
     "data": {
      "image/png": "[encoded data removed]",
      "text/plain": [
       "Plot with title \"Predict_Math_Score\""
      ]
     },
     "metadata": {},
     "output_type": "display_data"
    }
   ],
   "source": [
    "# While the % Var Explained will need to be determined for Overfitting, we have a model!\n",
    "plot(Predict_Math_Score)"
   ]
  },
  {
   "cell_type": "code",
   "execution_count": 326,
   "metadata": {},
   "outputs": [
    {
     "data": {
      "text/html": [
       "1.23151520879921"
      ],
      "text/latex": [
       "1.23151520879921"
      ],
      "text/markdown": [
       "1.23151520879921"
      ],
      "text/plain": [
       "[1] 1.231515"
      ]
     },
     "metadata": {},
     "output_type": "display_data"
    }
   ],
   "source": [
    "# As the figure displays, as we add more Trees to the model, the lower our error seems to appear.\n",
    "# We now predict our test set and determine the RMSE for the predictions.\n",
    "mean(sqrt((y_test - predict(Predict_Math_Score, x_test))**2))"
   ]
  },
  {
   "cell_type": "code",
   "execution_count": 327,
   "metadata": {},
   "outputs": [
    {
     "data": {
      "text/html": [
       "<table>\n",
       "<thead><tr><th></th><th scope=col>%IncMSE</th><th scope=col>IncNodePurity</th></tr></thead>\n",
       "<tbody>\n",
       "\t<tr><th scope=row>gender</th><td> 8.6884428</td><td> 3230.151 </td></tr>\n",
       "\t<tr><th scope=row>race.ethnicity</th><td>-0.2884227</td><td> 1834.442 </td></tr>\n",
       "\t<tr><th scope=row>parental.level.of.education</th><td> 2.2739181</td><td> 2534.039 </td></tr>\n",
       "\t<tr><th scope=row>lunch</th><td> 8.0446732</td><td> 2789.480 </td></tr>\n",
       "\t<tr><th scope=row>test.preparation.course</th><td> 7.4280766</td><td> 1908.863 </td></tr>\n",
       "\t<tr><th scope=row>reading.score</th><td>44.9236804</td><td>81048.227 </td></tr>\n",
       "\t<tr><th scope=row>writing.score</th><td>31.2192291</td><td>58733.207 </td></tr>\n",
       "</tbody>\n",
       "</table>\n"
      ],
      "text/latex": [
       "\\begin{tabular}{r|ll}\n",
       "  & \\%IncMSE & IncNodePurity\\\\\n",
       "\\hline\n",
       "\tgender &  8.6884428 &  3230.151 \\\\\n",
       "\trace.ethnicity & -0.2884227 &  1834.442 \\\\\n",
       "\tparental.level.of.education &  2.2739181 &  2534.039 \\\\\n",
       "\tlunch &  8.0446732 &  2789.480 \\\\\n",
       "\ttest.preparation.course &  7.4280766 &  1908.863 \\\\\n",
       "\treading.score & 44.9236804 & 81048.227 \\\\\n",
       "\twriting.score & 31.2192291 & 58733.207 \\\\\n",
       "\\end{tabular}\n"
      ],
      "text/markdown": [
       "\n",
       "| <!--/--> | %IncMSE | IncNodePurity | \n",
       "|---|---|---|---|---|---|---|\n",
       "| gender |  8.6884428 |  3230.151  | \n",
       "| race.ethnicity | -0.2884227 |  1834.442  | \n",
       "| parental.level.of.education |  2.2739181 |  2534.039  | \n",
       "| lunch |  8.0446732 |  2789.480  | \n",
       "| test.preparation.course |  7.4280766 |  1908.863  | \n",
       "| reading.score | 44.9236804 | 81048.227  | \n",
       "| writing.score | 31.2192291 | 58733.207  | \n",
       "\n",
       "\n"
      ],
      "text/plain": [
       "                            %IncMSE    IncNodePurity\n",
       "gender                       8.6884428  3230.151    \n",
       "race.ethnicity              -0.2884227  1834.442    \n",
       "parental.level.of.education  2.2739181  2534.039    \n",
       "lunch                        8.0446732  2789.480    \n",
       "test.preparation.course      7.4280766  1908.863    \n",
       "reading.score               44.9236804 81048.227    \n",
       "writing.score               31.2192291 58733.207    "
      ]
     },
     "metadata": {},
     "output_type": "display_data"
    }
   ],
   "source": [
    "# On average, it looks like our predicted Math test score deviated by 1.53 points from the actual Math test score.\n",
    "importance(Predict_Math_Score)"
   ]
  },
  {
   "cell_type": "code",
   "execution_count": 332,
   "metadata": {},
   "outputs": [
    {
     "data": {
      "text/plain": [
       "\n",
       "Call:\n",
       " randomForest(x = x_train, y = y_train, importance = TRUE) \n",
       "               Type of random forest: regression\n",
       "                     Number of trees: 500\n",
       "No. of variables tried at each split: 1\n",
       "\n",
       "          Mean of squared residuals: 185.8035\n",
       "                    % Var explained: 19.63"
      ]
     },
     "metadata": {},
     "output_type": "display_data"
    }
   ],
   "source": [
    "# It also appears that the reading.score and the writing.score had the highest importance in predicting the\n",
    "# math.score. This aligns with our Correlation test!\n",
    "# Let's drop the columns and teach a new Random Forest algorithm. \n",
    "# This time, we drop the Reading and Writing test scores in case if the Math test is taken before the Reading\n",
    "# and writing tests...\n",
    "# We split our data for training and testing...\n",
    "sample <- sample.split(df, SplitRatio = .75)\n",
    "train <- subset(df[c(1,2,3,4,5,8)], sample == TRUE)\n",
    "test  <- subset(df[c(1,2,3,4,5,8)], sample == FALSE)\n",
    "\n",
    "# We split our training data into the X and y vectors...\n",
    "x_train = train[c(1,2,3,4,5)]\n",
    "y_train = train[,6]\n",
    "\n",
    "# We split our testing data into the X and y vectors...\n",
    "x_test = test[c(1,2,3,4,5)]\n",
    "y_test = test[,6]\n",
    "\n",
    "# We create the model without the Reading and Writing scores...\n",
    "Math_Score_No_Tests.rf <- randomForest(\n",
    "    x = x_train,\n",
    "    y = y_train,\n",
    "    importance = TRUE,\n",
    ")\n",
    "Math_Score_No_Tests.rf"
   ]
  },
  {
   "cell_type": "code",
   "execution_count": 333,
   "metadata": {},
   "outputs": [
    {
     "data": {
      "image/png": "[encoded data removed]",
      "text/plain": [
       "Plot with title \"Math_Score_No_Tests.rf\""
      ]
     },
     "metadata": {},
     "output_type": "display_data"
    }
   ],
   "source": [
    "# Yikes... the % Var. explained is alarmingly low... especially when compared to the previous model.\n",
    "# let's see how well the tree number influences the error.\n",
    "plot(Math_Score_No_Tests.rf)"
   ]
  },
  {
   "cell_type": "code",
   "execution_count": 334,
   "metadata": {},
   "outputs": [
    {
     "data": {
      "text/html": [
       "11.2526742501218"
      ],
      "text/latex": [
       "11.2526742501218"
      ],
      "text/markdown": [
       "11.2526742501218"
      ],
      "text/plain": [
       "[1] 11.25267"
      ]
     },
     "metadata": {},
     "output_type": "display_data"
    }
   ],
   "source": [
    "# It appears our tree value is optimized to minimize the error...\n",
    "# Let us calculate the actual RMSE for a prediction on the test set.\n",
    "mean(sqrt((y_test - predict(Math_Score_No_Tests.rf, x_test))**2))"
   ]
  },
  {
   "cell_type": "code",
   "execution_count": 335,
   "metadata": {},
   "outputs": [
    {
     "data": {
      "text/html": [
       "<table>\n",
       "<thead><tr><th></th><th scope=col>%IncMSE</th><th scope=col>IncNodePurity</th></tr></thead>\n",
       "<tbody>\n",
       "\t<tr><th scope=row>gender</th><td>16.05360 </td><td> 3838.737</td></tr>\n",
       "\t<tr><th scope=row>race.ethnicity</th><td>16.31127 </td><td> 5923.159</td></tr>\n",
       "\t<tr><th scope=row>parental.level.of.education</th><td>14.49475 </td><td> 5417.350</td></tr>\n",
       "\t<tr><th scope=row>lunch</th><td>33.85978 </td><td>13303.236</td></tr>\n",
       "\t<tr><th scope=row>test.preparation.course</th><td>22.53119 </td><td> 4932.731</td></tr>\n",
       "</tbody>\n",
       "</table>\n"
      ],
      "text/latex": [
       "\\begin{tabular}{r|ll}\n",
       "  & \\%IncMSE & IncNodePurity\\\\\n",
       "\\hline\n",
       "\tgender & 16.05360  &  3838.737\\\\\n",
       "\trace.ethnicity & 16.31127  &  5923.159\\\\\n",
       "\tparental.level.of.education & 14.49475  &  5417.350\\\\\n",
       "\tlunch & 33.85978  & 13303.236\\\\\n",
       "\ttest.preparation.course & 22.53119  &  4932.731\\\\\n",
       "\\end{tabular}\n"
      ],
      "text/markdown": [
       "\n",
       "| <!--/--> | %IncMSE | IncNodePurity | \n",
       "|---|---|---|---|---|\n",
       "| gender | 16.05360  |  3838.737 | \n",
       "| race.ethnicity | 16.31127  |  5923.159 | \n",
       "| parental.level.of.education | 14.49475  |  5417.350 | \n",
       "| lunch | 33.85978  | 13303.236 | \n",
       "| test.preparation.course | 22.53119  |  4932.731 | \n",
       "\n",
       "\n"
      ],
      "text/plain": [
       "                            %IncMSE  IncNodePurity\n",
       "gender                      16.05360  3838.737    \n",
       "race.ethnicity              16.31127  5923.159    \n",
       "parental.level.of.education 14.49475  5417.350    \n",
       "lunch                       33.85978 13303.236    \n",
       "test.preparation.course     22.53119  4932.731    "
      ]
     },
     "metadata": {},
     "output_type": "display_data"
    }
   ],
   "source": [
    "# Surprisingly, the type of lunch had the largest influence on the predictions of our test set...\n",
    "importance(Math_Score_No_Tests.rf)"
   ]
  },
  {
   "cell_type": "code",
   "execution_count": 292,
   "metadata": {},
   "outputs": [],
   "source": [
    "# It appears dropping the Reading and Writing score significantly affected the results of this model...\n",
    "# Recommendations: Optimize the current model and visualize the data more appropriately.\n",
    "# It may be more worthwhile to compare which variables most influence the Reading Score and the Writing Score as well.\n",
    "# Then, feature importance can be cross-validated between this model and the Reading and Writing score models...\n",
    "# It may be beneficial to use the score values to predict the parent's level of education in the future..."
   ]
  },
  {
   "cell_type": "markdown",
   "metadata": {},
   "source": [
    "### To Do:\n",
    "Data Visualization <br>\n",
    "Display Tree Paths <br>"
   ]
  },
  {
   "cell_type": "code",
   "execution_count": null,
   "metadata": {},
   "outputs": [],
   "source": []
  }
 ],
 "metadata": {
  "kernelspec": {
   "display_name": "R",
   "language": "R",
   "name": "ir"
  },
  "language_info": {
   "codemirror_mode": "r",
   "file_extension": ".r",
   "mimetype": "text/x-r-source",
   "name": "R",
   "pygments_lexer": "r",
   "version": "3.5.1"
  }
 },
 "nbformat": 4,
 "nbformat_minor": 2
}
